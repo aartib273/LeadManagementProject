{
 "cells": [
  {
   "cell_type": "code",
   "execution_count": 84,
   "id": "95e4adff-3414-4cbb-b663-9776e7151c2f",
   "metadata": {},
   "outputs": [],
   "source": [
    "from snowflake.sqlalchemy import URL\n",
    "from sqlalchemy import create_engine\n",
    "import pandas as pd\n",
    "import uuid\n",
    "\n",
    "import os\n",
    "\n",
    "user = os.environ.get('SNOWFLAKE_USER')\n",
    "password = os.environ.get('SNOWFLAKE_PASS')\n",
    "account = os.environ.get('SNOWFLAKE_ACCOUNT')"
   ]
  },
  {
   "cell_type": "code",
   "execution_count": 90,
   "id": "f4480ea9-1fe2-42d5-8645-a0f5c922ca41",
   "metadata": {},
   "outputs": [
    {
     "name": "stdout",
     "output_type": "stream",
     "text": [
      "Missing environment variables. Please check your setup.\n"
     ]
    }
   ],
   "source": [
    "if not all([user, password, account]):\n",
    "    print(\"Missing environment variables. Please check your setup.\")\n",
    "else:\n",
    "    from sqlalchemy import create_engine\n",
    "    from snowflake.sqlalchemy import URL\n",
    "\n",
    "    engine = create_engine(URL(\n",
    "        account = account,\n",
    "        user = user,\n",
    "        password = password,\n",
    "        database = 'SF_LEADMANAGEMENT',\n",
    "        schema = 'PUBLIC',\n",
    "        warehouse = 'COMPUTE_WH',\n",
    "        role='ACCOUNTADMIN'\n",
    "    ))\n",
    "\n",
    "    connection = engine.connect()"
   ]
  },
  {
   "cell_type": "code",
   "execution_count": 74,
   "id": "937ccfce-d5e0-4501-97e4-f0d72af0c11c",
   "metadata": {},
   "outputs": [
    {
     "name": "stdout",
     "output_type": "stream",
     "text": [
      "                                     id  state      createddateutc  \\\n",
      "0  d73c7d93-bc0b-c284-8786-08db8cec307b      3 2023-07-25 08:50:26   \n",
      "1  f4a6f637-b7e9-c4de-8339-08db8cef5067      2 2023-07-25 09:12:48   \n",
      "2  4633aa15-3c41-cc94-9176-08db8d0f3c4b      1 2023-07-25 13:01:18   \n",
      "3  57e80bf5-492d-cf3e-a516-08db8d179419      2 2023-07-25 14:01:01   \n",
      "4  1a527929-d64c-c031-104d-08db8d27c11a      2 2023-07-25 15:56:49   \n",
      "\n",
      "  cancellationrequestdateutc cancellationdateutc cancellationrejectiondateutc  \\\n",
      "0        2023-07-31 12:21:42                 NaT          2023-08-01 10:25:30   \n",
      "1        2023-07-31 13:56:10 2023-08-01 10:24:21                          NaT   \n",
      "2        2023-08-01 10:19:09                 NaT                          NaT   \n",
      "3        2023-08-01 06:51:10 2023-08-01 10:23:46                          NaT   \n",
      "4        2023-08-01 07:11:25 2023-08-01 10:24:38                          NaT   \n",
      "\n",
      "         soldemployee cancelledemployee      updateddateutc  \n",
      "0  xyz@pflegehilfe.de              None 2023-08-01 10:25:30  \n",
      "1  hij@pflegehilfe.de              None 2023-08-01 10:24:21  \n",
      "2  efg@pflegehilfe.de              None 2023-08-01 10:19:09  \n",
      "3  hij@pflegehilfe.de              None 2023-08-01 10:23:46  \n",
      "4  hij@pflegehilfe.de              None 2023-08-01 10:24:38  \n"
     ]
    }
   ],
   "source": [
    "# Read data from CompanyLeads\n",
    "query = \"SELECT * FROM CompanyLeads;\"\n",
    "df_leads = pd.read_sql(query, connection)\n",
    "\n",
    "print(df_leads.head())"
   ]
  },
  {
   "cell_type": "code",
   "execution_count": 76,
   "id": "1d4cc4ea-70bc-4887-8218-e74535cdd82e",
   "metadata": {},
   "outputs": [],
   "source": [
    "def transform_data(df):\n",
    "    events = []\n",
    "    for index, row in df.iterrows():\n",
    "        # Event when lead is sold, State = 0\n",
    "        if pd.notnull(row['createddateutc']):\n",
    "            events.append({\n",
    "                'id': str(uuid.uuid4()),\n",
    "                'eventtype': 'LeadSold',\n",
    "                'eventemployee': row['soldemployee'],\n",
    "                'eventdate': row['createddateutc'],\n",
    "                'leadid': row['id'],\n",
    "                'updateddateutc': row['updateddateutc']\n",
    "            })\n",
    "\n",
    "        # Event when cancellation is requested, State = 1\n",
    "        if pd.notnull(row['cancellationrequestdateutc']):\n",
    "            events.append({\n",
    "                'id': str(uuid.uuid4()),\n",
    "                'eventtype': 'LeadRequestedCancellation',\n",
    "                'eventemployee': 'Unknown',  # As specified in pdf use \"Unknown\" for these events\n",
    "                'eventdate': row['cancellationrequestdateutc'],\n",
    "                'leadid': row['id'],\n",
    "                'updateddateutc': row['updateddateutc']\n",
    "            })\n",
    "\n",
    "        # Event when lead is cancelled, State = 2\n",
    "        if pd.notnull(row['cancellationdateutc']):\n",
    "            events.append({\n",
    "                'id': str(uuid.uuid4()),\n",
    "                'eventtype': 'LeadCancelled',\n",
    "                'eventemployee': row['cancelledemployee'],\n",
    "                'eventdate': row['cancellationdateutc'],\n",
    "                'leadid': row['id'],\n",
    "                'updateddateutc': row['updateddateutc']\n",
    "            })\n",
    "\n",
    "        # Event when cancellation is rejected, State = 3\n",
    "        if pd.notnull(row['cancellationrejectiondateutc']):\n",
    "            events.append({\n",
    "                'id': str(uuid.uuid4()),\n",
    "                'eventtype': 'LeadCancellationRejected',\n",
    "                'eventemployee': 'Unknown',  # As specified, use \"Unknown\" for these events\n",
    "                'eventdate': row['cancellationrejectiondateutc'],\n",
    "                'leadid': row['id'],\n",
    "                'updateddateutc': row['updateddateutc']\n",
    "            })\n",
    "\n",
    "    return pd.DataFrame(events)"
   ]
  },
  {
   "cell_type": "code",
   "execution_count": 78,
   "id": "7a026883-5444-4744-8875-31aee3bd6dbe",
   "metadata": {},
   "outputs": [
    {
     "name": "stdout",
     "output_type": "stream",
     "text": [
      "Index(['id', 'state', 'createddateutc', 'cancellationrequestdateutc',\n",
      "       'cancellationdateutc', 'cancellationrejectiondateutc', 'soldemployee',\n",
      "       'cancelledemployee', 'updateddateutc'],\n",
      "      dtype='object')\n"
     ]
    }
   ],
   "source": [
    "print(df_leads.columns)\n",
    "\n",
    "df_events = transform_data(df_leads)"
   ]
  },
  {
   "cell_type": "code",
   "execution_count": 80,
   "id": "5c956872-c36e-4924-a8c0-6b416593f40d",
   "metadata": {},
   "outputs": [
    {
     "name": "stdout",
     "output_type": "stream",
     "text": [
      "Data loaded successfully.\n"
     ]
    }
   ],
   "source": [
    "\n",
    "# Insert transformed data back to Snowflake\n",
    "df_events.to_sql('leadevents', con=engine, index=False, if_exists='append')\n",
    "print(\"Data loaded successfully.\")"
   ]
  },
  {
   "cell_type": "code",
   "execution_count": 82,
   "id": "4fb9499b-b48a-4d15-b61f-f90ad0695512",
   "metadata": {},
   "outputs": [],
   "source": [
    "# Close connection\n",
    "connection.close()"
   ]
  }
 ],
 "metadata": {
  "kernelspec": {
   "display_name": "Python 3 (ipykernel)",
   "language": "python",
   "name": "python3"
  },
  "language_info": {
   "codemirror_mode": {
    "name": "ipython",
    "version": 3
   },
   "file_extension": ".py",
   "mimetype": "text/x-python",
   "name": "python",
   "nbconvert_exporter": "python",
   "pygments_lexer": "ipython3",
   "version": "3.12.2"
  }
 },
 "nbformat": 4,
 "nbformat_minor": 5
}
